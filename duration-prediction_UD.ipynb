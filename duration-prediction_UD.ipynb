{
 "cells": [
  {
   "cell_type": "code",
   "execution_count": 1,
   "id": "41062d8a",
   "metadata": {},
   "outputs": [],
   "source": [
    "import pandas as pd\n",
    "import pickle\n",
    "import seaborn as sns\n",
    "import matplotlib.pyplot as plt"
   ]
  },
  {
   "cell_type": "code",
   "execution_count": 2,
   "id": "8b135c2b",
   "metadata": {},
   "outputs": [],
   "source": [
    "from sklearn.feature_extraction import DictVectorizer\n",
    "from sklearn.linear_model import LinearRegression\n",
    "from sklearn.linear_model import Lasso\n",
    "from sklearn.linear_model import Ridge\n",
    "\n",
    "from sklearn.metrics import mean_squared_error"
   ]
  },
  {
   "cell_type": "code",
   "execution_count": 3,
   "id": "4cddc654",
   "metadata": {},
   "outputs": [],
   "source": [
    "# import os\n",
    "\n",
    "# os.getcwd() # cur dir check"
   ]
  },
  {
   "cell_type": "code",
   "execution_count": 4,
   "id": "b41e9902",
   "metadata": {},
   "outputs": [],
   "source": [
    "df = pd.read_parquet('./data/yellow_tripdata_2022-01.parquet')"
   ]
  },
  {
   "cell_type": "code",
   "execution_count": 5,
   "id": "daa59b0a",
   "metadata": {},
   "outputs": [],
   "source": [
    "# homework section\n",
    "\n",
    "# q1\n",
    "# df.info() #--> 19 cols\n",
    "\n",
    "# q2\n",
    "# x_df = df.copy()\n",
    "# x_df['duration'] = x_df.tpep_dropoff_datetime - x_df.tpep_pickup_datetime\n",
    "# x_df.duration = x_df.duration.apply(lambda td: td.total_seconds() / 60)\n",
    "# x_df.describe() # answ: 46.45\n",
    "\n",
    "# q3\n",
    "# x_df = x_df[(x_df.duration >= 1) & (x_df.duration <= 60)]\n",
    "# x_df.info() # --> 98% left"
   ]
  },
  {
   "cell_type": "code",
   "execution_count": 6,
   "id": "8e013caf",
   "metadata": {},
   "outputs": [],
   "source": [
    "\n",
    "# df['duration'] = df.lpep_dropoff_datetime - df.lpep_pickup_datetime\n",
    "df['duration'] = df.tpep_dropoff_datetime - df.tpep_pickup_datetime # to fit yellow cab data columns\n",
    "df.duration = df.duration.apply(lambda td: td.total_seconds() / 60)\n",
    "\n",
    "df = df[(df.duration >= 1) & (df.duration <= 60)] # convert duration to minutes\n",
    "\n",
    "# setting them variables to cateterical ones\n",
    "categorical = ['PULocationID', 'DOLocationID']\n",
    "numerical = ['trip_distance']\n",
    "\n",
    "df[categorical] = df[categorical].astype(str)"
   ]
  },
  {
   "cell_type": "code",
   "execution_count": 7,
   "id": "116ff0cc",
   "metadata": {},
   "outputs": [
    {
     "data": {
      "text/plain": [
       "7.001496179445599"
      ]
     },
     "execution_count": 7,
     "metadata": {},
     "output_type": "execute_result"
    }
   ],
   "source": [
    "# to setup the general and method of the model\n",
    "\n",
    "train_dicts = df[categorical + numerical].to_dict(orient='records')\n",
    "\n",
    "dv = DictVectorizer()\n",
    "X_train = dv.fit_transform(train_dicts)\n",
    "\n",
    "target = 'duration'\n",
    "y_train = df[target].values\n",
    "\n",
    "lr = LinearRegression()\n",
    "\n",
    "lr.fit(X_train, y_train)\n",
    "\n",
    "y_pred = lr.predict(X_train)\n",
    "\n",
    "mean_squared_error(y_train, y_pred, squared=False)"
   ]
  },
  {
   "cell_type": "code",
   "execution_count": 8,
   "id": "b134c97b",
   "metadata": {},
   "outputs": [
    {
     "data": {
      "image/png": "[encoded data removed]",
      "text/plain": [
       "<Figure size 640x480 with 1 Axes>"
      ]
     },
     "metadata": {},
     "output_type": "display_data"
    }
   ],
   "source": [
    "# fig = sns.displot(y_pred, label='prediction')\n",
    "# fig = sns.displot(y_train, label='actual')\n",
    "\n",
    "# plt.legend()\n",
    "\n",
    "fig = sns.kdeplot(y_pred, label='prediction', fill=True)\n",
    "fig = sns.kdeplot(y_train, label='actual', fill=True)\n",
    "\n",
    "plt.legend()\n",
    "plt.show()"
   ]
  },
  {
   "cell_type": "code",
   "execution_count": 9,
   "id": "f9e6479e",
   "metadata": {},
   "outputs": [],
   "source": [
    "def read_dataframe(filename):\n",
    "    if filename.endswith('.csv'):\n",
    "        df = pd.read_csv(filename)\n",
    "\n",
    "        df.lpep_dropoff_datetime = pd.to_datetime(df.lpep_dropoff_datetime)\n",
    "        df.lpep_pickup_datetime = pd.to_datetime(df.lpep_pickup_datetime)\n",
    "    elif filename.endswith('.parquet'):\n",
    "        df = pd.read_parquet(filename)\n",
    "\n",
    "    # df['duration'] = df.lpep_dropoff_datetime - df.lpep_pickup_datetime\n",
    "    df['duration'] = df.tpep_dropoff_datetime - df.tpep_pickup_datetime # adjustment for yellow cabs\n",
    "    df.duration = df.duration.apply(lambda td: td.total_seconds() / 60)\n",
    "\n",
    "    df = df[(df.duration >= 1) & (df.duration <= 60)]\n",
    "\n",
    "    categorical = ['PULocationID', 'DOLocationID']\n",
    "    df[categorical] = df[categorical].astype(str)\n",
    "    \n",
    "    return df"
   ]
  },
  {
   "cell_type": "code",
   "execution_count": 10,
   "id": "8029eba0",
   "metadata": {},
   "outputs": [],
   "source": [
    "# green cabs\n",
    "# df_train = read_dataframe('./data/green_tripdata_2021-01.parquet')\n",
    "# df_val = read_dataframe('./data/green_tripdata_2021-02.parquet')\n",
    "\n",
    "# yellow cabs\n",
    "df_train = read_dataframe('./data/yellow_tripdata_2022-01.parquet')\n",
    "df_val = read_dataframe('./data/yellow_tripdata_2022-02.parquet')"
   ]
  },
  {
   "cell_type": "code",
   "execution_count": 11,
   "id": "f6f2f0eb",
   "metadata": {},
   "outputs": [
    {
     "data": {
      "text/plain": [
       "(2421440, 2918187)"
      ]
     },
     "execution_count": 11,
     "metadata": {},
     "output_type": "execute_result"
    }
   ],
   "source": [
    "len(df_train), len(df_val)"
   ]
  },
  {
   "cell_type": "code",
   "execution_count": 12,
   "id": "951d51ef",
   "metadata": {},
   "outputs": [],
   "source": [
    "df_train['PU_DO'] = df_train['PULocationID'] + '_' + df_train['DOLocationID']\n",
    "df_val['PU_DO'] = df_val['PULocationID'] + '_' + df_val['DOLocationID']"
   ]
  },
  {
   "cell_type": "code",
   "execution_count": 13,
   "id": "6c9280c4",
   "metadata": {},
   "outputs": [],
   "source": [
    "# df_train['PU_DO']"
   ]
  },
  {
   "cell_type": "code",
   "execution_count": 31,
   "id": "c5cbfc25",
   "metadata": {},
   "outputs": [],
   "source": [
    "# categorical = ['PU_DO'] #'PULocationID', 'DOLocationID']\n",
    "categorical = ['PULocationID', 'DOLocationID']\n",
    "numerical = ['trip_distance']\n",
    "\n",
    "dv = DictVectorizer()\n",
    "\n",
    "train_dicts = df_train[categorical + numerical].to_dict(orient='records')\n",
    "X_train = dv.fit_transform(train_dicts)\n",
    "\n",
    "val_dicts = df_val[categorical + numerical].to_dict(orient='records')\n",
    "X_val = dv.transform(val_dicts)"
   ]
  },
  {
   "cell_type": "code",
   "execution_count": 32,
   "id": "1e9fb68b",
   "metadata": {},
   "outputs": [],
   "source": [
    "target = 'duration'\n",
    "y_train = df_train[target].values\n",
    "y_val = df_val[target].values"
   ]
  },
  {
   "cell_type": "code",
   "execution_count": 33,
   "id": "429e2394",
   "metadata": {},
   "outputs": [
    {
     "name": "stdout",
     "output_type": "stream",
     "text": [
      "LR Train set error: 7.001496179445599\n",
      "LR Validation set error: 7.795498122351478\n"
     ]
    }
   ],
   "source": [
    "lr = LinearRegression()\n",
    "lr.fit(X_train, y_train)\n",
    "\n",
    "y_pred_train = lr.predict(X_train)\n",
    "y_pred_val = lr.predict(X_val)\n",
    "\n",
    "print(f\"LR Train set error: {mean_squared_error(y_train, y_pred_train, squared=False)}\")\n",
    "print(f\"LR Validation set error: {mean_squared_error(y_val, y_pred_val, squared=False)}\")"
   ]
  },
  {
   "cell_type": "code",
   "execution_count": 34,
   "id": "f4d5a202",
   "metadata": {},
   "outputs": [],
   "source": [
    "# with categorical = ['PU_DO']\n",
    "# LR Train set error: 4.797262752727264\n",
    "# LR Validation set error: 5.530296532346327\n",
    "\n",
    "# with categorical = ['PULocationID', 'DOLocationID']\n",
    "# LR Train set error: 7.001496179445599\n",
    "# LR Validation set error: 7.795498122351478"
   ]
  },
  {
   "cell_type": "code",
   "execution_count": 35,
   "id": "22bf6f8b",
   "metadata": {},
   "outputs": [],
   "source": [
    "with open('models/lin_reg.bin', 'wb') as f_out:\n",
    "    pickle.dump((dv, lr), f_out)"
   ]
  },
  {
   "cell_type": "code",
   "execution_count": 36,
   "id": "a4999b94",
   "metadata": {},
   "outputs": [
    {
     "name": "stdout",
     "output_type": "stream",
     "text": [
      "Lasso LR Train set error: 7.330249085528763\n",
      "Lasso LR Validation set error: 8.115993320463872\n"
     ]
    }
   ],
   "source": [
    "lr = Lasso(alpha=0.01)\n",
    "lr.fit(X_train, y_train)\n",
    "\n",
    "y_pred_train = lr.predict(X_train)\n",
    "y_pred_val = lr.predict(X_val)\n",
    "\n",
    "print(f\"Lasso LR Train set error: {mean_squared_error(y_train, y_pred_train, squared=False)}\")\n",
    "print(f\"Lasso LR Validation set error: {mean_squared_error(y_val, y_pred_val, squared=False)}\")"
   ]
  },
  {
   "cell_type": "code",
   "execution_count": 37,
   "id": "7b9a5611",
   "metadata": {},
   "outputs": [],
   "source": [
    "# with categorical = ['PU_DO']\n",
    "# Lasso LR Train set error: 8.653064817390371\n",
    "# Lasso LR Validation set error: 9.374921127169834\n",
    "\n",
    "# with categorical = ['PULocationID', 'DOLocationID']\n",
    "# Lasso LR Train set error: 7.330249085528763\n",
    "# Lasso LR Validation set error: 8.115993320463872"
   ]
  },
  {
   "cell_type": "code",
   "execution_count": 38,
   "id": "47b0eb9b",
   "metadata": {},
   "outputs": [
    {
     "name": "stdout",
     "output_type": "stream",
     "text": [
      "Ridge LR Train set error: 6.98869357135582\n",
      "Ridge LR Validation set error: 7.786760067323611\n"
     ]
    }
   ],
   "source": [
    "lr = Ridge()\n",
    "lr.fit(X_train, y_train)\n",
    "\n",
    "y_pred_train = lr.predict(X_train)\n",
    "y_pred_val = lr.predict(X_val)\n",
    "\n",
    "print(f\"Ridge LR Train set error: {mean_squared_error(y_train, y_pred_train, squared=False)}\")\n",
    "print(f\"Ridge LR Validation set error: {mean_squared_error(y_val, y_pred_val, squared=False)}\")"
   ]
  },
  {
   "cell_type": "code",
   "execution_count": null,
   "id": "46c10bf8",
   "metadata": {},
   "outputs": [],
   "source": [
    "with open('models/r_lin_reg.bin', 'wb') as f_out:\n",
    "    pickle.dump((dv, lr), f_out)"
   ]
  },
  {
   "cell_type": "code",
   "execution_count": null,
   "id": "939e8ff8",
   "metadata": {},
   "outputs": [],
   "source": [
    "# with categorical = ['PU_DO']\n",
    "# Ridge LR Train set error: 4.642477960242985\n",
    "# Ridge LR Validation set error: 5.436624845472747\n",
    "\n",
    "#### these answers are submitted\n",
    "# with categorical = ['PULocationID', 'DOLocationID']\n",
    "# Ridge LR Train set error: 6.98869357135582 \n",
    "# Ridge LR Validation set error: 7.786760067323611"
   ]
  }
 ],
 "metadata": {
  "kernelspec": {
   "display_name": "Python 3 (ipykernel)",
   "language": "python",
   "name": "python3"
  },
  "language_info": {
   "codemirror_mode": {
    "name": "ipython",
    "version": 3
   },
   "file_extension": ".py",
   "mimetype": "text/x-python",
   "name": "python",
   "nbconvert_exporter": "python",
   "pygments_lexer": "ipython3",
   "version": "3.10.6"
  }
 },
 "nbformat": 4,
 "nbformat_minor": 5
}
